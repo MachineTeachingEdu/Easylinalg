{
 "cells": [
  {
   "cell_type": "code",
   "execution_count": 34,
   "id": "cdd52597-a62c-41af-9198-3de46b313f70",
   "metadata": {},
   "outputs": [
    {
     "data": {
      "text/plain": [
       "2-element Vector{Int64}:\n",
       " 19\n",
       " 27"
      ]
     },
     "execution_count": 34,
     "metadata": {},
     "output_type": "execute_result"
    }
   ],
   "source": [
    "using LinearAlgebra\n",
    "a = [3,5]\n",
    "b = [7,11]\n",
    "c = 2 * a + 3* b"
   ]
  },
  {
   "cell_type": "code",
   "execution_count": 35,
   "id": "2aa19484-9ad7-4902-94cd-c1e39b8eaaab",
   "metadata": {},
   "outputs": [
    {
     "data": {
      "text/plain": [
       "9.153846153846153"
      ]
     },
     "execution_count": 35,
     "metadata": {},
     "output_type": "execute_result"
    }
   ],
   "source": [
    "x = a\\c"
   ]
  },
  {
   "cell_type": "code",
   "execution_count": 36,
   "id": "684d62f0-8f43-47eb-9e84-47953c20c227",
   "metadata": {},
   "outputs": [
    {
     "data": {
      "text/plain": [
       "3.837837837837838"
      ]
     },
     "execution_count": 36,
     "metadata": {},
     "output_type": "execute_result"
    }
   ],
   "source": [
    "y = b\\c"
   ]
  },
  {
   "cell_type": "code",
   "execution_count": 37,
   "id": "1ff4b961-c487-482a-b4ad-992bd8c6a5f2",
   "metadata": {},
   "outputs": [
    {
     "data": {
      "text/plain": [
       "2-element Vector{Float64}:\n",
       " 37.4968814968815\n",
       " 54.32640332640332"
      ]
     },
     "execution_count": 37,
     "metadata": {},
     "output_type": "execute_result"
    }
   ],
   "source": []
  },
  {
   "cell_type": "code",
   "execution_count": null,
   "id": "51960ed1-ceb4-47c2-b1a8-e3c5455ca559",
   "metadata": {},
   "outputs": [],
   "source": []
  }
 ],
 "metadata": {
  "kernelspec": {
   "display_name": "Julia nodeps 1.6.1",
   "language": "julia",
   "name": "julia-nodeps-1.6"
  },
  "language_info": {
   "file_extension": ".jl",
   "mimetype": "application/julia",
   "name": "julia",
   "version": "1.6.1"
  }
 },
 "nbformat": 4,
 "nbformat_minor": 5
}
